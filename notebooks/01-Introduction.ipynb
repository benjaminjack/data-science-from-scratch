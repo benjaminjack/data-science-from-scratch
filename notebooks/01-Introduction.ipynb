{
 "cells": [
  {
   "cell_type": "markdown",
   "metadata": {},
   "source": [
    "# 01 Introduction\n",
    "\n",
    "This is the first notebook in a collection of notebooks designed to accompany _Data Science from Scratch, 2nd Edition_ by Joel Grus. Each notebook corresponds to one chapter of the book. For each chapter, I'll first present a summary of the main concepts with some code examples, followed by 5-10 exercises for the reader to complete."
   ]
  },
  {
   "cell_type": "markdown",
   "metadata": {},
   "source": [
    "## A Crash Course in Jupyter Notebooks\n",
    "\n",
    "This document is a Jupyter notebook, a special format that interactively mixes Python code, output, formatted text, images, and much more. We'll use notebooks as a convenient format to present notes and complete coding exercises.\n",
    "\n",
    "Notebooks are divided into invidual cells. A cell can contain either Python code or Markdown (a simple text-formatting language), and each cell can be selected in either _command mode_ (surrounded by a blue box) or _edit mode_ (surrounded by a green box). In edit mode, as the name implies, you can edit the contents of a cell. To enter edit mode, click on a selected cell, or select the cell and press `enter`.\n",
    "\n",
    "All cells can be executed. If the cell is a Python cell, the Python code executes and any output is presented below the cell. If the cell is Markdown, executing the cell renders the Markdown into formatted text. You can change the type of cell by using the dropdown menu in the toolbar at the top of the page. To execute a cell, click Run in the tool bar, or press `shift-enter`.\n",
    "\n",
    "At any time, you can return to command mode by pressing `esc`. Once on command mode, press `h` for help. This help page will show a complete list of shortcuts in Jupyter notebooks. I suggest memorizing at least a few of these shortcuts.\n",
    "\n",
    "To add a cell below the current cell, press the plus (+) button in the tool bar, or press `b` (for *b*elow) in command mode.\n",
    "\n",
    "That covers the basics! You'll get some practice with these commands in the Exercises section of this notebook."
   ]
  },
  {
   "cell_type": "markdown",
   "metadata": {},
   "source": [
    "# Notes and Key Concepts\n",
    "\n",
    "Typically this section will contain notes and code examples. However, since Chapter 1 is an introduction without any deeper explanation of the code examples, we're going to ignore the code presented in this chapter. We'll skip right to exercises that test some key concepts from the chapter, along with some basic notebook skills."
   ]
  },
  {
   "cell_type": "markdown",
   "metadata": {},
   "source": [
    "# Exercises"
   ]
  },
  {
   "cell_type": "markdown",
   "metadata": {},
   "source": [
    "## Jupyter Notebooks\n",
    "\n",
    "The exercises below ask the reader to create both Python cells and Markdown cells. For an explanation of how to format text with Markdown, see [this Markdown cheatsheet](https://github.com/adam-p/markdown-here/wiki/Markdown-Cheatsheet)."
   ]
  },
  {
   "cell_type": "markdown",
   "metadata": {},
   "source": [
    "### Exercise 1\n",
    "\n",
    "Insert a Python cell below and execute the code `print('Hello world!')`."
   ]
  },
  {
   "cell_type": "code",
   "execution_count": 1,
   "metadata": {},
   "outputs": [
    {
     "name": "stdout",
     "output_type": "stream",
     "text": [
      "Hello world!\n"
     ]
    }
   ],
   "source": [
    "print('Hello world!')"
   ]
  },
  {
   "cell_type": "markdown",
   "metadata": {},
   "source": [
    "### Exercise 2\n",
    "\n",
    "Insert a Markdown cell below and put some words in **bold** and some in *italic*. "
   ]
  },
  {
   "cell_type": "markdown",
   "metadata": {},
   "source": [
    "This is a word in **bold** and this is a word in *italic*."
   ]
  },
  {
   "cell_type": "markdown",
   "metadata": {},
   "source": [
    "### Exercise 3\n",
    "\n",
    "Insert a Markdown cell below and create a bulleted list of your favorite foods."
   ]
  },
  {
   "cell_type": "markdown",
   "metadata": {},
   "source": [
    "* Pizza\n",
    "* Ice cream\n",
    "* Salad"
   ]
  },
  {
   "cell_type": "markdown",
   "metadata": {},
   "source": [
    "## DataSciencester social network\n",
    "\n",
    "Complete the following two exercises by inserting Markdown cells below each exercise."
   ]
  },
  {
   "cell_type": "markdown",
   "metadata": {},
   "source": [
    "### Exercise 4\n",
    "\n",
    "What is the network metric *degree centrality*?"
   ]
  },
  {
   "cell_type": "markdown",
   "metadata": {},
   "source": [
    "Degree centrality is the count of neighbors for a given node."
   ]
  },
  {
   "cell_type": "markdown",
   "metadata": {},
   "source": [
    "### Exercise 5\n",
    "\n",
    "What is one shortcoming of degree centrality? Why might we want to use a different metric?"
   ]
  },
  {
   "cell_type": "markdown",
   "metadata": {},
   "source": [
    "Degree centrality does not always agree with our intuition of which node is most central to a network since it only accounts for immediate neighbors."
   ]
  },
  {
   "cell_type": "code",
   "execution_count": null,
   "metadata": {},
   "outputs": [],
   "source": []
  }
 ],
 "metadata": {
  "kernelspec": {
   "display_name": "Python 3",
   "language": "python",
   "name": "python3"
  },
  "language_info": {
   "codemirror_mode": {
    "name": "ipython",
    "version": 3
   },
   "file_extension": ".py",
   "mimetype": "text/x-python",
   "name": "python",
   "nbconvert_exporter": "python",
   "pygments_lexer": "ipython3",
   "version": "3.7.4"
  }
 },
 "nbformat": 4,
 "nbformat_minor": 2
}
